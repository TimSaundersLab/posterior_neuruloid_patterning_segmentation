{
 "cells": [
  {
   "cell_type": "code",
   "execution_count": 1,
   "metadata": {},
   "outputs": [],
   "source": [
    "import cv2\n",
    "import numpy as np\n",
    "import tifffile as tiff\n",
    "import matplotlib.pyplot as plt\n",
    "import os"
   ]
  },
  {
   "cell_type": "markdown",
   "metadata": {},
   "source": [
    "### Correct larger images with stitching to improve quality\n",
    "\n",
    "Filter DAPI with CLAHE on FIJI then combine with other channels."
   ]
  },
  {
   "cell_type": "code",
   "execution_count": null,
   "metadata": {},
   "outputs": [],
   "source": [
    "# run to make a new dataset with CLAHED images\n",
    "clahe_folder = \"../images/single_z_slices/triangle_ctrl/triangle_ctrl_500_clahe/\"\n",
    "path_to_clahe_dapi = os.path.join(clahe_folder, \"dapi\")\n",
    "file_list = sorted(os.listdir(path_to_clahe_dapi))\n",
    "\n",
    "original_folder = \"../images/single_z_slices/triangle_ctrl/triangle_ctrl_500/\" # folder containing original images\n",
    "\n",
    "for i in range(len(file_list)):\n",
    "    clahe_dapi_image_path = os.path.join(path_to_clahe_dapi, file_list[i])\n",
    "    clahe_dapi_image = tiff.imread(clahe_dapi_image_path)\n",
    "\n",
    "    original_full_image_path = os.path.join(original_folder, file_list[i])\n",
    "    original_full_image = tiff.imread(original_full_image_path)\n",
    "\n",
    "    new_image = np.concatenate([clahe_dapi_image[np.newaxis,:,:], original_full_image[1:,:,:]], axis=0)\n",
    "\n",
    "    tiff.imwrite(f\"{clahe_folder}/{file_list[i]}\", new_image)\n"
   ]
  },
  {
   "cell_type": "code",
   "execution_count": null,
   "metadata": {},
   "outputs": [],
   "source": []
  },
  {
   "cell_type": "code",
   "execution_count": null,
   "metadata": {},
   "outputs": [],
   "source": []
  }
 ],
 "metadata": {
  "kernelspec": {
   "display_name": "cellpose-dev",
   "language": "python",
   "name": "python3"
  },
  "language_info": {
   "codemirror_mode": {
    "name": "ipython",
    "version": 3
   },
   "file_extension": ".py",
   "mimetype": "text/x-python",
   "name": "python",
   "nbconvert_exporter": "python",
   "pygments_lexer": "ipython3",
   "version": "3.9.20"
  }
 },
 "nbformat": 4,
 "nbformat_minor": 2
}
